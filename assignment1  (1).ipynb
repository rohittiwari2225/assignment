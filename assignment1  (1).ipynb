{
 "cells": [
  {
   "cell_type": "code",
   "execution_count": null,
   "id": "8b0f1478-16b3-492a-9293-be17ccb865b0",
   "metadata": {},
   "outputs": [],
   "source": [
    "# question1"
   ]
  },
  {
   "cell_type": "code",
   "execution_count": null,
   "id": "6029efdd-5df2-40d1-adb3-8ce1311fe33e",
   "metadata": {},
   "outputs": [],
   "source": [
    "l = \"rohit\"\n"
   ]
  },
  {
   "cell_type": "code",
   "execution_count": null,
   "id": "c4c6711c-d0fa-4514-8f93-0127642b7b5a",
   "metadata": {},
   "outputs": [],
   "source": [
    "m = [1,3,4,\"sd\",\"df\",\"dsg\",2.45]"
   ]
  },
  {
   "cell_type": "code",
   "execution_count": null,
   "id": "275ae425-a62d-4335-baf9-c2c8d1db3d32",
   "metadata": {},
   "outputs": [],
   "source": [
    "n = 1.98"
   ]
  },
  {
   "cell_type": "code",
   "execution_count": null,
   "id": "09e25b94-6ed1-4b33-a79b-00dea32582c8",
   "metadata": {},
   "outputs": [],
   "source": []
  },
  {
   "cell_type": "code",
   "execution_count": 3,
   "id": "df5283b8-986a-4168-8696-ace7cc8e49d0",
   "metadata": {},
   "outputs": [
    {
     "data": {
      "text/plain": [
       "tuple"
      ]
     },
     "execution_count": 3,
     "metadata": {},
     "output_type": "execute_result"
    }
   ],
   "source": [
    "o = (\"rohit\",\"mohit\",\"ankit\")\n"
   ]
  },
  {
   "cell_type": "code",
   "execution_count": null,
   "id": "434e7673-2acc-4de8-b3ea-6b9daf9787d0",
   "metadata": {},
   "outputs": [],
   "source": [
    "#question2"
   ]
  },
  {
   "cell_type": "code",
   "execution_count": 4,
   "id": "3e781efa-2498-473b-a4ec-dad61df18c52",
   "metadata": {},
   "outputs": [
    {
     "data": {
      "text/plain": [
       "str"
      ]
     },
     "execution_count": 4,
     "metadata": {},
     "output_type": "execute_result"
    }
   ],
   "source": [
    "var1 = ' '\n",
    "type(var1)"
   ]
  },
  {
   "cell_type": "code",
   "execution_count": 5,
   "id": "017f4e24-f38f-4775-aff3-f6a67388b4b6",
   "metadata": {},
   "outputs": [
    {
     "data": {
      "text/plain": [
       "str"
      ]
     },
     "execution_count": 5,
     "metadata": {},
     "output_type": "execute_result"
    }
   ],
   "source": [
    "var2 = '[DS,ML,Pythan]'\n",
    "type(var2)"
   ]
  },
  {
   "cell_type": "code",
   "execution_count": 6,
   "id": "082b3d5e-7235-4127-ba7a-a06b9663c75a",
   "metadata": {},
   "outputs": [
    {
     "data": {
      "text/plain": [
       "list"
      ]
     },
     "execution_count": 6,
     "metadata": {},
     "output_type": "execute_result"
    }
   ],
   "source": [
    "var3 = ['DS','ML','Pythan']\n",
    "type(var3)"
   ]
  },
  {
   "cell_type": "code",
   "execution_count": 7,
   "id": "f7e591da-5f2c-4548-b3cb-23d6421b9934",
   "metadata": {},
   "outputs": [
    {
     "data": {
      "text/plain": [
       "float"
      ]
     },
     "execution_count": 7,
     "metadata": {},
     "output_type": "execute_result"
    }
   ],
   "source": [
    "var4 = 1.\n",
    "type(var4)"
   ]
  },
  {
   "cell_type": "code",
   "execution_count": null,
   "id": "028cd6c4-3d7c-4f61-bb64-85d1e7754cb6",
   "metadata": {},
   "outputs": [],
   "source": [
    "#question3"
   ]
  },
  {
   "cell_type": "code",
   "execution_count": 8,
   "id": "36d94b74-e5df-48ad-a3dc-7e3bfd8bb0a6",
   "metadata": {},
   "outputs": [
    {
     "name": "stdout",
     "output_type": "stream",
     "text": [
      "0.75\n"
     ]
    }
   ],
   "source": [
    "a =3 \n",
    "d =4\n",
    "print(a/d)\n",
    "      \n",
    "# /is an arithmatic operator.\n",
    "      "
   ]
  },
  {
   "cell_type": "code",
   "execution_count": 9,
   "id": "fc80827f-088d-4504-bca3-370fb982ea7d",
   "metadata": {},
   "outputs": [
    {
     "name": "stdout",
     "output_type": "stream",
     "text": [
      "5\n"
     ]
    }
   ],
   "source": [
    "b = 5\n",
    "c = 7\n",
    "print(b%c)\n",
    "# % is a modulus operator"
   ]
  },
  {
   "cell_type": "code",
   "execution_count": 10,
   "id": "0920ed50-a9dd-4534-8e11-62b7cd542777",
   "metadata": {},
   "outputs": [
    {
     "name": "stdout",
     "output_type": "stream",
     "text": [
      "0\n"
     ]
    }
   ],
   "source": [
    "g = 6\n",
    "h = 9\n",
    "print(g//h)\n",
    "# //is a floor division operator"
   ]
  },
  {
   "cell_type": "code",
   "execution_count": 11,
   "id": "27966c84-b9a2-4e5d-a0b4-4b869e0fb136",
   "metadata": {},
   "outputs": [
    {
     "name": "stdout",
     "output_type": "stream",
     "text": [
      "64\n"
     ]
    }
   ],
   "source": [
    "j = 8\n",
    "k = 2\n",
    "l = j**k\n",
    "print(l)\n",
    "# ** is an exponential operator"
   ]
  },
  {
   "cell_type": "code",
   "execution_count": 3,
   "id": "b75dc2f2-7b19-40bd-a6ba-8dc828eadfc8",
   "metadata": {},
   "outputs": [
    {
     "name": "stdout",
     "output_type": "stream",
     "text": [
      "<class 'str'>\n",
      "<class 'int'>\n",
      "<class 'int'>\n",
      "<class 'float'>\n",
      "<class 'float'>\n",
      "<class 'int'>\n",
      "<class 'int'>\n",
      "<class 'str'>\n",
      "<class 'int'>\n",
      "<class 'int'>\n"
     ]
    }
   ],
   "source": [
    "# question4 \n",
    "l = [\"rohit\",2,3,4.6,9.8,88,65,\"jk\",8,1]\n",
    "for i in l :\n",
    "    print(type(i))\n",
    "    \n",
    "\n"
   ]
  },
  {
   "cell_type": "code",
   "execution_count": 24,
   "id": "c6fb2d45-fccc-46fa-9112-51f321a1c98b",
   "metadata": {},
   "outputs": [
    {
     "name": "stdin",
     "output_type": "stream",
     "text": [
      " 5\n",
      " 9\n"
     ]
    },
    {
     "name": "stdout",
     "output_type": "stream",
     "text": [
      "not divisible\n"
     ]
    }
   ],
   "source": [
    "# question 05 \n",
    "def divide_by_b(a,b):\n",
    "    count = o\n",
    "    while a>= b:\n",
    "        a -=b\n",
    "        count+=1\n",
    "        return count\n",
    "    print(divide_by_b(10,2))\n",
    "    \n",
    "        \n",
    "        \n",
    "\n",
    "    \n",
    "    "
   ]
  },
  {
   "cell_type": "code",
   "execution_count": 8,
   "id": "0ecdbbb0-6026-49e1-bb04-d84457be23f1",
   "metadata": {},
   "outputs": [
    {
     "name": "stdout",
     "output_type": "stream",
     "text": [
      "1 the number is not divisible by 3\n",
      "2 the number is not divisible by 3\n",
      "3 the number is divisible by 3\n",
      "4 the number is not divisible by 3\n",
      "5 the number is not divisible by 3\n",
      "6 the number is divisible by 3\n",
      "7 the number is not divisible by 3\n",
      "8 the number is not divisible by 3\n",
      "9 the number is divisible by 3\n",
      "10 the number is not divisible by 3\n",
      "11 the number is not divisible by 3\n",
      "12 the number is divisible by 3\n",
      "13 the number is not divisible by 3\n",
      "14 the number is not divisible by 3\n",
      "15 the number is divisible by 3\n",
      "16 the number is not divisible by 3\n",
      "17 the number is not divisible by 3\n",
      "18 the number is divisible by 3\n",
      "19 the number is not divisible by 3\n",
      "20 the number is not divisible by 3\n",
      "21 the number is divisible by 3\n",
      "22 the number is not divisible by 3\n",
      "23 the number is not divisible by 3\n",
      "24 the number is divisible by 3\n",
      "25 the number is not divisible by 3\n"
     ]
    }
   ],
   "source": [
    "# qluestion 06\n",
    "l = [1,2,3,4,5,6,7,8,9,10,11,12,13,14,15,16,17,18,19,20,21,22,23,24,25,]\n",
    "for i in l :\n",
    "    if i%3 == 0:\n",
    "        print(i,\"the number is divisible by 3\")\n",
    "    else :\n",
    "        print(i,\"the number is not divisible by 3\")"
   ]
  },
  {
   "cell_type": "code",
   "execution_count": 14,
   "id": "d013d41a-cc86-4815-8eff-25012403f0a3",
   "metadata": {},
   "outputs": [],
   "source": [
    "# question 07\n",
    "#changing and reassigning the data or values are called mutability.\n",
    "# list are mutable but strings are not mutable .\n",
    "\n",
    "\n",
    "List = [True,False,56,77,34]\n",
    "List[1]=22\n",
    "\n",
    "\n",
    "string = \"rohit\"\n",
    "string[2] = y\n"
   ]
  },
  {
   "cell_type": "code",
   "execution_count": 15,
   "id": "6361840a-fdba-40f2-97c1-f727c935cda6",
   "metadata": {},
   "outputs": [
    {
     "data": {
      "text/plain": [
       "list"
      ]
     },
     "execution_count": 15,
     "metadata": {},
     "output_type": "execute_result"
    }
   ],
   "source": [
    "type(List)"
   ]
  },
  {
   "cell_type": "code",
   "execution_count": 16,
   "id": "c64f4ee4-e05c-4bd4-97a1-678b0226d182",
   "metadata": {},
   "outputs": [
    {
     "data": {
      "text/plain": [
       "[True, 22, 56, 77, 34]"
      ]
     },
     "execution_count": 16,
     "metadata": {},
     "output_type": "execute_result"
    }
   ],
   "source": [
    "List"
   ]
  },
  {
   "cell_type": "code",
   "execution_count": null,
   "id": "f9a69b7f-27c0-494c-baf6-8033fee878f0",
   "metadata": {},
   "outputs": [],
   "source": []
  }
 ],
 "metadata": {
  "kernelspec": {
   "display_name": "Python 3 (ipykernel)",
   "language": "python",
   "name": "python3"
  },
  "language_info": {
   "codemirror_mode": {
    "name": "ipython",
    "version": 3
   },
   "file_extension": ".py",
   "mimetype": "text/x-python",
   "name": "python",
   "nbconvert_exporter": "python",
   "pygments_lexer": "ipython3",
   "version": "3.10.8"
  }
 },
 "nbformat": 4,
 "nbformat_minor": 5
}
